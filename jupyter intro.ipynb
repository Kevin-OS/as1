{
 "cells": [
  {
   "cell_type": "code",
   "execution_count": 1,
   "metadata": {
    "collapsed": false
   },
   "outputs": [
    {
     "data": {
      "text/plain": [
       "2"
      ]
     },
     "execution_count": 1,
     "metadata": {},
     "output_type": "execute_result"
    }
   ],
   "source": [
    "1+1"
   ]
  },
  {
   "cell_type": "code",
   "execution_count": 2,
   "metadata": {
    "collapsed": false
   },
   "outputs": [
    {
     "data": {
      "text/plain": [
       "10"
      ]
     },
     "execution_count": 2,
     "metadata": {},
     "output_type": "execute_result"
    }
   ],
   "source": [
    "2*5"
   ]
  },
  {
   "cell_type": "code",
   "execution_count": 3,
   "metadata": {
    "collapsed": false
   },
   "outputs": [
    {
     "data": {
      "text/plain": [
       "3.3333333333333335"
      ]
     },
     "execution_count": 3,
     "metadata": {},
     "output_type": "execute_result"
    }
   ],
   "source": [
    "10/3"
   ]
  },
  {
   "cell_type": "code",
   "execution_count": 4,
   "metadata": {
    "collapsed": false
   },
   "outputs": [
    {
     "data": {
      "text/plain": [
       "3"
      ]
     },
     "execution_count": 4,
     "metadata": {},
     "output_type": "execute_result"
    }
   ],
   "source": [
    "10//3"
   ]
  },
  {
   "cell_type": "code",
   "execution_count": 5,
   "metadata": {
    "collapsed": false
   },
   "outputs": [
    {
     "data": {
      "text/plain": [
       "1"
      ]
     },
     "execution_count": 5,
     "metadata": {},
     "output_type": "execute_result"
    }
   ],
   "source": [
    "10%3"
   ]
  },
  {
   "cell_type": "code",
   "execution_count": 6,
   "metadata": {
    "collapsed": false
   },
   "outputs": [
    {
     "data": {
      "text/plain": [
       "'Hello'"
      ]
     },
     "execution_count": 6,
     "metadata": {},
     "output_type": "execute_result"
    }
   ],
   "source": [
    "\"Hello\""
   ]
  },
  {
   "cell_type": "code",
   "execution_count": 7,
   "metadata": {
    "collapsed": false
   },
   "outputs": [
    {
     "ename": "NameError",
     "evalue": "name 'hello' is not defined",
     "output_type": "error",
     "traceback": [
      "\u001b[1;31m---------------------------------------------------------------------------\u001b[0m",
      "\u001b[1;31mNameError\u001b[0m                                 Traceback (most recent call last)",
      "\u001b[1;32m<ipython-input-7-b1946ac92492>\u001b[0m in \u001b[0;36m<module>\u001b[1;34m()\u001b[0m\n\u001b[1;32m----> 1\u001b[1;33m \u001b[0mhello\u001b[0m\u001b[1;33m\u001b[0m\u001b[0m\n\u001b[0m",
      "\u001b[1;31mNameError\u001b[0m: name 'hello' is not defined"
     ]
    }
   ],
   "source": [
    "hello"
   ]
  },
  {
   "cell_type": "code",
   "execution_count": 10,
   "metadata": {
    "collapsed": false
   },
   "outputs": [
    {
     "ename": "TypeError",
     "evalue": "Can't convert 'int' object to str implicitly",
     "output_type": "error",
     "traceback": [
      "\u001b[1;31m---------------------------------------------------------------------------\u001b[0m",
      "\u001b[1;31mTypeError\u001b[0m                                 Traceback (most recent call last)",
      "\u001b[1;32m<ipython-input-10-d917dac084d5>\u001b[0m in \u001b[0;36m<module>\u001b[1;34m()\u001b[0m\n\u001b[1;32m----> 1\u001b[1;33m \u001b[1;34m\"The sum is: \"\u001b[0m \u001b[1;33m+\u001b[0m \u001b[1;36m3\u001b[0m\u001b[1;33m*\u001b[0m\u001b[1;36m4\u001b[0m\u001b[1;33m\u001b[0m\u001b[0m\n\u001b[0m",
      "\u001b[1;31mTypeError\u001b[0m: Can't convert 'int' object to str implicitly"
     ]
    }
   ],
   "source": [
    "\"The sum is: \" + 3*4"
   ]
  },
  {
   "cell_type": "code",
   "execution_count": 15,
   "metadata": {
    "collapsed": false
   },
   "outputs": [
    {
     "data": {
      "text/plain": [
       "'The sum is: 12'"
      ]
     },
     "execution_count": 15,
     "metadata": {},
     "output_type": "execute_result"
    }
   ],
   "source": [
    "# concatenating and converting integer type to string type\n",
    "\"The sum is: \" + str(3*4)"
   ]
  },
  {
   "cell_type": "code",
   "execution_count": 16,
   "metadata": {
    "collapsed": false
   },
   "outputs": [
    {
     "data": {
      "text/plain": [
       "12"
      ]
     },
     "execution_count": 16,
     "metadata": {},
     "output_type": "execute_result"
    }
   ],
   "source": [
    "m = 3\n",
    "n = 4\n",
    "m*n"
   ]
  },
  {
   "cell_type": "code",
   "execution_count": 17,
   "metadata": {
    "collapsed": false
   },
   "outputs": [
    {
     "data": {
      "text/plain": [
       "'hellohellohellohello'"
      ]
     },
     "execution_count": 17,
     "metadata": {},
     "output_type": "execute_result"
    }
   ],
   "source": [
    "m = \"hello\"\n",
    "m*n"
   ]
  },
  {
   "cell_type": "code",
   "execution_count": 19,
   "metadata": {
    "collapsed": false
   },
   "outputs": [
    {
     "data": {
      "text/plain": [
       "'ll'"
      ]
     },
     "execution_count": 19,
     "metadata": {},
     "output_type": "execute_result"
    }
   ],
   "source": [
    "# slicing\n",
    "m[2:4]"
   ]
  },
  {
   "cell_type": "markdown",
   "metadata": {},
   "source": [
    "m[0:3]"
   ]
  },
  {
   "cell_type": "code",
   "execution_count": 20,
   "metadata": {
    "collapsed": false
   },
   "outputs": [
    {
     "data": {
      "text/plain": [
       "'hel'"
      ]
     },
     "execution_count": 20,
     "metadata": {},
     "output_type": "execute_result"
    }
   ],
   "source": [
    "m[0:3]"
   ]
  },
  {
   "cell_type": "code",
   "execution_count": 21,
   "metadata": {
    "collapsed": false
   },
   "outputs": [
    {
     "data": {
      "text/plain": [
       "'h'"
      ]
     },
     "execution_count": 21,
     "metadata": {},
     "output_type": "execute_result"
    }
   ],
   "source": [
    "m[0]"
   ]
  },
  {
   "cell_type": "code",
   "execution_count": 22,
   "metadata": {
    "collapsed": false
   },
   "outputs": [
    {
     "data": {
      "text/plain": [
       "'l'"
      ]
     },
     "execution_count": 22,
     "metadata": {},
     "output_type": "execute_result"
    }
   ],
   "source": [
    "m[2]"
   ]
  },
  {
   "cell_type": "code",
   "execution_count": 23,
   "metadata": {
    "collapsed": false
   },
   "outputs": [
    {
     "ename": "SyntaxError",
     "evalue": "Missing parentheses in call to 'print' (<ipython-input-23-3093608910ed>, line 2)",
     "output_type": "error",
     "traceback": [
      "\u001b[1;36m  File \u001b[1;32m\"<ipython-input-23-3093608910ed>\"\u001b[1;36m, line \u001b[1;32m2\u001b[0m\n\u001b[1;33m    print letter\u001b[0m\n\u001b[1;37m               ^\u001b[0m\n\u001b[1;31mSyntaxError\u001b[0m\u001b[1;31m:\u001b[0m Missing parentheses in call to 'print'\n"
     ]
    }
   ],
   "source": [
    "for letter in m:\n",
    "    print letter"
   ]
  },
  {
   "cell_type": "code",
   "execution_count": 24,
   "metadata": {
    "collapsed": false
   },
   "outputs": [
    {
     "name": "stdout",
     "output_type": "stream",
     "text": [
      "h\n",
      "e\n",
      "l\n",
      "l\n",
      "o\n"
     ]
    }
   ],
   "source": [
    "for letter in m:\n",
    "    print(letter)"
   ]
  },
  {
   "cell_type": "code",
   "execution_count": 25,
   "metadata": {
    "collapsed": false
   },
   "outputs": [
    {
     "name": "stdout",
     "output_type": "stream",
     "text": [
      "Here is a letter h\n",
      "Here is a letter e\n",
      "Here is a letter l\n",
      "Here is a letter l\n",
      "Here is a letter o\n"
     ]
    }
   ],
   "source": [
    "for letter in m:\n",
    "    print(\"Here is a letter\", letter)"
   ]
  },
  {
   "cell_type": "code",
   "execution_count": 27,
   "metadata": {
    "collapsed": false
   },
   "outputs": [
    {
     "name": "stdout",
     "output_type": "stream",
     "text": [
      "0 h\n",
      "1 e\n",
      "2 l\n",
      "3 l\n",
      "4 o\n"
     ]
    }
   ],
   "source": [
    "for idx, letter in enumerate(m):\n",
    "    print (idx,letter)"
   ]
  },
  {
   "cell_type": "code",
   "execution_count": 35,
   "metadata": {
    "collapsed": false
   },
   "outputs": [
    {
     "name": "stdout",
     "output_type": "stream",
     "text": [
      "0h\n",
      "1e\n",
      "2l\n",
      "3l\n",
      "4o\n"
     ]
    }
   ],
   "source": [
    "for idx, letter in enumerate(m):\n",
    "    print (str(idx) + letter)"
   ]
  },
  {
   "cell_type": "code",
   "execution_count": 36,
   "metadata": {
    "collapsed": false
   },
   "outputs": [
    {
     "name": "stdout",
     "output_type": "stream",
     "text": [
      "0some words\n",
      "1some words\n",
      "2some words\n",
      "3some words\n",
      "4some words\n",
      "5some words\n",
      "6some words\n",
      "7some words\n",
      "8some words\n",
      "9some words\n",
      "10some words\n",
      "11some words\n",
      "12some words\n",
      "13some words\n",
      "14some words\n",
      "15some words\n",
      "16some words\n",
      "17some words\n",
      "18some words\n",
      "19some words\n",
      "20some words\n",
      "21some words\n",
      "22some words\n",
      "23some words\n",
      "24some words\n",
      "25some words\n",
      "26some words\n",
      "27some words\n",
      "28some words\n",
      "29some words\n",
      "30some words\n",
      "31some words\n",
      "32some words\n",
      "33some words\n",
      "34some words\n",
      "35some words\n",
      "36some words\n",
      "37some words\n",
      "38some words\n",
      "39some words\n",
      "40some words\n",
      "41some words\n",
      "42some words\n",
      "43some words\n",
      "44some words\n",
      "45some words\n",
      "46some words\n",
      "47some words\n",
      "48some words\n",
      "49some words\n",
      "50some words\n",
      "51some words\n",
      "52some words\n",
      "53some words\n",
      "54some words\n",
      "55some words\n",
      "56some words\n",
      "57some words\n",
      "58some words\n",
      "59some words\n",
      "60some words\n",
      "61some words\n",
      "62some words\n",
      "63some words\n",
      "64some words\n",
      "65some words\n",
      "66some words\n",
      "67some words\n",
      "68some words\n",
      "69some words\n",
      "70some words\n",
      "71some words\n",
      "72some words\n",
      "73some words\n",
      "74some words\n",
      "75some words\n",
      "76some words\n",
      "77some words\n",
      "78some words\n",
      "79some words\n",
      "80some words\n",
      "81some words\n",
      "82some words\n",
      "83some words\n",
      "84some words\n",
      "85some words\n",
      "86some words\n",
      "87some words\n",
      "88some words\n",
      "89some words\n",
      "90some words\n",
      "91some words\n",
      "92some words\n",
      "93some words\n",
      "94some words\n",
      "95some words\n",
      "96some words\n",
      "97some words\n",
      "98some words\n",
      "99some words\n"
     ]
    }
   ],
   "source": [
    "for i in range (100):\n",
    "    print (str(i) + \"some words\")"
   ]
  },
  {
   "cell_type": "code",
   "execution_count": 60,
   "metadata": {
    "collapsed": false
   },
   "outputs": [
    {
     "name": "stdout",
     "output_type": "stream",
     "text": [
      "           0 some words\n",
      "           1 some words\n",
      "           2 some words\n",
      "           3 some words\n",
      "           4 some words\n",
      "           5 some words\n",
      "           6 some words\n",
      "           7 some words\n",
      "           8 some words\n",
      "           9 some words\n",
      "          10 some words\n",
      "          11 some words\n",
      "          12 some words\n",
      "          13 some words\n",
      "          14 some words\n",
      "          15 some words\n",
      "          16 some words\n",
      "          17 some words\n",
      "          18 some words\n",
      "          19 some words\n",
      "          20 some words\n",
      "          21 some words\n",
      "          22 some words\n",
      "          23 some words\n",
      "          24 some words\n",
      "          25 some words\n",
      "          26 some words\n",
      "          27 some words\n",
      "          28 some words\n",
      "          29 some words\n",
      "          30 some words\n",
      "          31 some words\n",
      "          32 some words\n",
      "          33 some words\n",
      "          34 some words\n",
      "          35 some words\n",
      "          36 some words\n",
      "          37 some words\n",
      "          38 some words\n",
      "          39 some words\n",
      "          40 some words\n",
      "          41 some words\n",
      "          42 some words\n",
      "          43 some words\n",
      "          44 some words\n",
      "          45 some words\n",
      "          46 some words\n",
      "          47 some words\n",
      "          48 some words\n",
      "          49 some words\n",
      "          50 some words\n",
      "          51 some words\n",
      "          52 some words\n",
      "          53 some words\n",
      "          54 some words\n",
      "          55 some words\n",
      "          56 some words\n",
      "          57 some words\n",
      "          58 some words\n",
      "          59 some words\n",
      "          60 some words\n",
      "          61 some words\n",
      "          62 some words\n",
      "          63 some words\n",
      "          64 some words\n",
      "          65 some words\n",
      "          66 some words\n",
      "          67 some words\n",
      "          68 some words\n",
      "          69 some words\n",
      "          70 some words\n",
      "          71 some words\n",
      "          72 some words\n",
      "          73 some words\n",
      "          74 some words\n",
      "          75 some words\n",
      "          76 some words\n",
      "          77 some words\n",
      "          78 some words\n",
      "          79 some words\n",
      "          80 some words\n",
      "          81 some words\n",
      "          82 some words\n",
      "          83 some words\n",
      "          84 some words\n",
      "          85 some words\n",
      "          86 some words\n",
      "          87 some words\n",
      "          88 some words\n",
      "          89 some words\n",
      "          90 some words\n",
      "          91 some words\n",
      "          92 some words\n",
      "          93 some words\n",
      "          94 some words\n",
      "          95 some words\n",
      "          96 some words\n",
      "          97 some words\n",
      "          98 some words\n",
      "          99 some words\n"
     ]
    }
   ],
   "source": [
    "for i in range (100):\n",
    "    print (\"{0:12} some words\".format(i))\n",
    "    "
   ]
  },
  {
   "cell_type": "code",
   "execution_count": 43,
   "metadata": {
    "collapsed": true
   },
   "outputs": [],
   "source": [
    "lotto = [5,27,8,21,41,32]"
   ]
  },
  {
   "cell_type": "code",
   "execution_count": 45,
   "metadata": {
    "collapsed": false
   },
   "outputs": [
    {
     "name": "stdout",
     "output_type": "stream",
     "text": [
      "[5, 27, 8, 21, 41, 32]\n"
     ]
    }
   ],
   "source": [
    "print (lotto)"
   ]
  },
  {
   "cell_type": "code",
   "execution_count": 46,
   "metadata": {
    "collapsed": true
   },
   "outputs": [],
   "source": [
    "sorted_lotto = sorted(lotto)"
   ]
  },
  {
   "cell_type": "code",
   "execution_count": 47,
   "metadata": {
    "collapsed": false
   },
   "outputs": [
    {
     "name": "stdout",
     "output_type": "stream",
     "text": [
      "[5, 8, 21, 27, 32, 41]\n"
     ]
    }
   ],
   "source": [
    "print (sorted_lotto)"
   ]
  },
  {
   "cell_type": "code",
   "execution_count": 48,
   "metadata": {
    "collapsed": false
   },
   "outputs": [
    {
     "name": "stdout",
     "output_type": "stream",
     "text": [
      "Your lotto number is:  5\n",
      "Your lotto number is:  8\n",
      "Your lotto number is:  21\n",
      "Your lotto number is:  27\n",
      "Your lotto number is:  32\n",
      "Your lotto number is:  41\n"
     ]
    }
   ],
   "source": [
    "for num in sorted_lotto:\n",
    "    print(\"Your lotto number is: \",num)"
   ]
  },
  {
   "cell_type": "code",
   "execution_count": 51,
   "metadata": {
    "collapsed": false
   },
   "outputs": [
    {
     "ename": "TypeError",
     "evalue": "'int' object is not iterable",
     "output_type": "error",
     "traceback": [
      "\u001b[1;31m---------------------------------------------------------------------------\u001b[0m",
      "\u001b[1;31mTypeError\u001b[0m                                 Traceback (most recent call last)",
      "\u001b[1;32m<ipython-input-51-7b3fba5be542>\u001b[0m in \u001b[0;36m<module>\u001b[1;34m()\u001b[0m\n\u001b[1;32m----> 1\u001b[1;33m \u001b[1;32mfor\u001b[0m \u001b[0mi\u001b[0m\u001b[1;33m,\u001b[0m \u001b[0mnum\u001b[0m \u001b[1;32min\u001b[0m \u001b[0msorted_lotto\u001b[0m\u001b[1;33m:\u001b[0m\u001b[1;33m\u001b[0m\u001b[0m\n\u001b[0m\u001b[0;32m      2\u001b[0m     \u001b[0mprint\u001b[0m\u001b[1;33m(\u001b[0m\u001b[1;34m\"Number\"\u001b[0m\u001b[1;33m,\u001b[0m \u001b[0mi\u001b[0m\u001b[1;33m,\u001b[0m \u001b[1;34m\"is\"\u001b[0m\u001b[1;33m,\u001b[0m \u001b[0mnum\u001b[0m\u001b[1;33m)\u001b[0m\u001b[1;33m\u001b[0m\u001b[0m\n",
      "\u001b[1;31mTypeError\u001b[0m: 'int' object is not iterable"
     ]
    }
   ],
   "source": [
    "for i, num in sorted_lotto:\n",
    "    print(\"Number\", i, \"is\", num)"
   ]
  },
  {
   "cell_type": "code",
   "execution_count": 52,
   "metadata": {
    "collapsed": false
   },
   "outputs": [
    {
     "name": "stdout",
     "output_type": "stream",
     "text": [
      "Number 0 is 5\n",
      "Number 1 is 8\n",
      "Number 2 is 21\n",
      "Number 3 is 27\n",
      "Number 4 is 32\n",
      "Number 5 is 41\n"
     ]
    }
   ],
   "source": [
    "for i, num in enumerate(sorted_lotto):\n",
    "    print(\"Number\", i, \"is\", num)"
   ]
  },
  {
   "cell_type": "code",
   "execution_count": 53,
   "metadata": {
    "collapsed": false
   },
   "outputs": [
    {
     "name": "stdout",
     "output_type": "stream",
     "text": [
      "Number 0 is 5\n",
      "Number 1 is 8\n",
      "Number 2 is 21\n",
      "Number 3 is 27\n",
      "Number 4 is 32\n",
      "Number 5 is 41\n"
     ]
    }
   ],
   "source": [
    "i = 1\n",
    "for i, num in enumerate(sorted_lotto):\n",
    "    print(\"Number\", i, \"is\", num)"
   ]
  },
  {
   "cell_type": "code",
   "execution_count": 61,
   "metadata": {
    "collapsed": false
   },
   "outputs": [
    {
     "name": "stdout",
     "output_type": "stream",
     "text": [
      "Number 1 is 5\n",
      "Number 2 is 8\n",
      "Number 3 is 21\n",
      "Number 4 is 27\n",
      "Number 5 is 32\n",
      "Number 6 is 41\n"
     ]
    }
   ],
   "source": [
    "i = 1\n",
    "for num in sorted_lotto:\n",
    "    print(\"Number\", i, \"is\", num)\n",
    "    i += 1"
   ]
  },
  {
   "cell_type": "code",
   "execution_count": 62,
   "metadata": {
    "collapsed": false
   },
   "outputs": [
    {
     "name": "stdout",
     "output_type": "stream",
     "text": [
      "Number 1 is 5\n",
      "Number 2 is 8\n",
      "Number 3 is 21\n",
      "Number 4 is 27\n",
      "Number 5 is 32\n",
      "Number 6 is 41\n"
     ]
    }
   ],
   "source": [
    "for i, num in enumerate(sorted_lotto):\n",
    "    print(\"Number\", (i+1), \"is\", num)"
   ]
  },
  {
   "cell_type": "code",
   "execution_count": 67,
   "metadata": {
    "collapsed": false
   },
   "outputs": [
    {
     "name": "stdout",
     "output_type": "stream",
     "text": [
      "Number 1 is 5\n",
      "Number 2 is 8\n",
      "Number 3 is 21\n",
      "Number 4 is 27\n",
      "Number 5 is 32\n",
      "Number 6 is 41\n"
     ]
    }
   ],
   "source": [
    "# formatting the output\n",
    "\n",
    "for i, num in enumerate(sorted_lotto):\n",
    "    print(\"Number %d is %d\" % ((i+1), num))"
   ]
  },
  {
   "cell_type": "code",
   "execution_count": null,
   "metadata": {
    "collapsed": true
   },
   "outputs": [],
   "source": []
  }
 ],
 "metadata": {
  "kernelspec": {
   "display_name": "Python 3",
   "language": "python",
   "name": "python3"
  },
  "language_info": {
   "codemirror_mode": {
    "name": "ipython",
    "version": 3
   },
   "file_extension": ".py",
   "mimetype": "text/x-python",
   "name": "python",
   "nbconvert_exporter": "python",
   "pygments_lexer": "ipython3",
   "version": "3.5.1"
  }
 },
 "nbformat": 4,
 "nbformat_minor": 0
}
