{
 "cells": [
  {
   "cell_type": "code",
   "execution_count": 3,
   "metadata": {
    "collapsed": false
   },
   "outputs": [
    {
     "name": "stdout",
     "output_type": "stream",
     "text": [
      "one,\n",
      "  two,\n",
      "    three\n"
     ]
    }
   ],
   "source": [
    "words = '''one,\n",
    "  two,\n",
    "    three'''\n",
    "\n",
    "print(words)"
   ]
  },
  {
   "cell_type": "code",
   "execution_count": 4,
   "metadata": {
    "collapsed": false
   },
   "outputs": [
    {
     "name": "stdout",
     "output_type": "stream",
     "text": [
      "o\n",
      "n\n",
      "e\n",
      ",\n",
      "\n",
      "\n",
      " \n",
      " \n",
      "t\n",
      "w\n",
      "o\n",
      ",\n",
      "\n",
      "\n",
      " \n",
      " \n",
      " \n",
      " \n",
      "t\n",
      "h\n",
      "r\n",
      "e\n",
      "e\n"
     ]
    }
   ],
   "source": [
    "for letter in words:\n",
    "    print(letter)"
   ]
  },
  {
   "cell_type": "code",
   "execution_count": 10,
   "metadata": {
    "collapsed": false
   },
   "outputs": [
    {
     "name": "stdout",
     "output_type": "stream",
     "text": [
      "111\n",
      "110\n",
      "101\n",
      "44\n",
      "10\n",
      "32\n",
      "32\n",
      "116\n",
      "119\n",
      "111\n",
      "44\n",
      "10\n",
      "32\n",
      "32\n",
      "32\n",
      "32\n",
      "116\n",
      "104\n",
      "114\n",
      "101\n",
      "101\n"
     ]
    }
   ],
   "source": [
    "#ord function will print the ascii value of a character\n",
    "for letter in words:\n",
    "    print(ord(letter))"
   ]
  },
  {
   "cell_type": "code",
   "execution_count": 12,
   "metadata": {
    "collapsed": false
   },
   "outputs": [
    {
     "name": "stdout",
     "output_type": "stream",
     "text": [
      "o\n",
      "n\n",
      "e\n",
      "t\n",
      "w\n",
      "o\n",
      "t\n",
      "h\n",
      "r\n",
      "e\n",
      "e\n"
     ]
    }
   ],
   "source": [
    "#this code removes spaces, newlines and commas from the words variable\n",
    "for letter in words:\n",
    "    if letter not in \" \\n,\":\n",
    "        print(letter)"
   ]
  },
  {
   "cell_type": "code",
   "execution_count": 16,
   "metadata": {
    "collapsed": false
   },
   "outputs": [
    {
     "name": "stdout",
     "output_type": "stream",
     "text": [
      "[111, 110, 101, 44, 10, 32, 32, 116, 119, 111, 44, 10, 32, 32, 32, 32, 116, 104, 114, 101, 101]\n"
     ]
    }
   ],
   "source": [
    "#this code applies the ord function to each character in the words variable and stores each value in a list called ascii_vals\n",
    "ascii_vals = list(map(ord, words))\n",
    "print(ascii_vals)"
   ]
  },
  {
   "cell_type": "code",
   "execution_count": 19,
   "metadata": {
    "collapsed": false
   },
   "outputs": [
    {
     "name": "stdout",
     "output_type": "stream",
     "text": [
      "['o', 'n', 'e', 't', 'w', 'o', 't', 'h', 'r', 'e', 'e']\n"
     ]
    }
   ],
   "source": [
    "#this code strips the spaces, newlines and commas from the words variable and stores the remaining characters in a list called\n",
    "#new_words\n",
    "new_words = []\n",
    "for letter in words:\n",
    "    if letter not in \" \\n,\":\n",
    "        new_words.append(letter)\n",
    "print(new_words)"
   ]
  },
  {
   "cell_type": "code",
   "execution_count": 22,
   "metadata": {
    "collapsed": false
   },
   "outputs": [
    {
     "name": "stdout",
     "output_type": "stream",
     "text": [
      "o n e t w o t h r e e\n"
     ]
    }
   ],
   "source": [
    "#this code joins each character in the new_words list puts a space between them and stores the result in a string called\n",
    "#on_word\n",
    "one_word = ' '.join(new_words)\n",
    "print(one_word)"
   ]
  },
  {
   "cell_type": "code",
   "execution_count": 24,
   "metadata": {
    "collapsed": false
   },
   "outputs": [
    {
     "name": "stdout",
     "output_type": "stream",
     "text": [
      "[111, 32, 110, 32, 101, 32, 116, 32, 119, 32, 111, 32, 116, 32, 104, 32, 114, 32, 101, 32, 101]\n"
     ]
    }
   ],
   "source": [
    "ascii_word = []\n",
    "for letter in one_word:\n",
    "    ascii_word.append(ord(letter))\n",
    "print(ascii_word)"
   ]
  },
  {
   "cell_type": "code",
   "execution_count": 26,
   "metadata": {
    "collapsed": false
   },
   "outputs": [
    {
     "name": "stdout",
     "output_type": "stream",
     "text": [
      "['o', ' ', 'n', ' ', 'e', ' ', 't', ' ', 'w', ' ', 'o', ' ', 't', ' ', 'h', ' ', 'r', ' ', 'e', ' ', 'e']\n"
     ]
    }
   ],
   "source": [
    "chars = []\n",
    "for item in ascii_word:\n",
    "    chars.append(chr(item))\n",
    "print(chars)"
   ]
  },
  {
   "cell_type": "code",
   "execution_count": 46,
   "metadata": {
    "collapsed": false
   },
   "outputs": [
    {
     "name": "stdout",
     "output_type": "stream",
     "text": [
      "one,\n",
      "  two,\n",
      "    three \n",
      "\n",
      "one,two,three"
     ]
    }
   ],
   "source": [
    "print(words,\"\\n\")\n",
    "\n",
    "for letter in words:\n",
    "    if letter not in \" \\n\":\n",
    "        print(letter, end = \"\")"
   ]
  },
  {
   "cell_type": "code",
   "execution_count": 49,
   "metadata": {
    "collapsed": false
   },
   "outputs": [
    {
     "name": "stdout",
     "output_type": "stream",
     "text": [
      "2 2\n",
      "'2' 2\n"
     ]
    }
   ],
   "source": [
    "# %s (string) %d (decimal) %r (raw) these are used for type formatting e.g %s expects a string. %r shows what type the data is\n",
    "# when it's printed\n",
    "print(\"%s %d\" % (\"2\", 2))\n",
    "print(\"%r %r\" % (\"2\", 2))"
   ]
  },
  {
   "cell_type": "code",
   "execution_count": 50,
   "metadata": {
    "collapsed": false
   },
   "outputs": [
    {
     "name": "stdout",
     "output_type": "stream",
     "text": [
      "a is 3, b is 4\n"
     ]
    }
   ],
   "source": [
    "a = 3\n",
    "b = 4\n",
    "print(\"a is {0}, b is {1}\".format(a, b))"
   ]
  },
  {
   "cell_type": "code",
   "execution_count": 57,
   "metadata": {
    "collapsed": false
   },
   "outputs": [
    {
     "name": "stdout",
     "output_type": "stream",
     "text": [
      "192.168.1.34\n",
      "192.168.1.20"
     ]
    }
   ],
   "source": [
    "with open(\"apache.log\", \"r\") as f:\n",
    "    for record in f:\n",
    "        print(record, end = \"\")"
   ]
  },
  {
   "cell_type": "code",
   "execution_count": null,
   "metadata": {
    "collapsed": true
   },
   "outputs": [],
   "source": []
  }
 ],
 "metadata": {
  "kernelspec": {
   "display_name": "Python 3",
   "language": "python",
   "name": "python3"
  },
  "language_info": {
   "codemirror_mode": {
    "name": "ipython",
    "version": 3
   },
   "file_extension": ".py",
   "mimetype": "text/x-python",
   "name": "python",
   "nbconvert_exporter": "python",
   "pygments_lexer": "ipython3",
   "version": "3.5.1"
  }
 },
 "nbformat": 4,
 "nbformat_minor": 0
}
