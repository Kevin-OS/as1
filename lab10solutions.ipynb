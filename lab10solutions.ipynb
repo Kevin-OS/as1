{
 "cells": [
  {
   "cell_type": "markdown",
   "metadata": {},
   "source": [
    "## Exercises"
   ]
  },
  {
   "cell_type": "markdown",
   "metadata": {},
   "source": [
    "1) Write code to create a list of numbers and iterate over the numbers"
   ]
  },
  {
   "cell_type": "code",
   "execution_count": 1,
   "metadata": {
    "collapsed": false
   },
   "outputs": [
    {
     "name": "stdout",
     "output_type": "stream",
     "text": [
      "3\n",
      "4\n",
      "9\n",
      "12\n",
      "2\n",
      "17\n",
      "1\n"
     ]
    }
   ],
   "source": [
    "numbers = [3, 4, 9, 12, 2, 17, 1]\n",
    "\n",
    "for num in numbers:\n",
    "    print(num)"
   ]
  },
  {
   "cell_type": "markdown",
   "metadata": {},
   "source": [
    "2) Write code to iterate over a string, displaying each character"
   ]
  },
  {
   "cell_type": "code",
   "execution_count": 2,
   "metadata": {
    "collapsed": false
   },
   "outputs": [
    {
     "name": "stdout",
     "output_type": "stream",
     "text": [
      "t\n",
      "h\n",
      "i\n",
      "s\n",
      " \n",
      "i\n",
      "s\n",
      " \n",
      "a\n",
      " \n",
      "s\n",
      "t\n",
      "r\n",
      "i\n",
      "n\n",
      "g\n"
     ]
    }
   ],
   "source": [
    "a_string = \"this is a string\"\n",
    "\n",
    "for char in a_string:\n",
    "    print(char)"
   ]
  },
  {
   "cell_type": "markdown",
   "metadata": {},
   "source": [
    "3) Create a multiline string and display the string, removing white spaces and newlines"
   ]
  },
  {
   "cell_type": "code",
   "execution_count": 5,
   "metadata": {
    "collapsed": false
   },
   "outputs": [
    {
     "name": "stdout",
     "output_type": "stream",
     "text": [
      "Thisisamulti-linestring"
     ]
    }
   ],
   "source": [
    "multi = '''This is\n",
    "a \n",
    "multi-line\n",
    "   string'''\n",
    "\n",
    "for char in multi:\n",
    "    if char not in \" \\n\":\n",
    "        print(char, end=\"\")"
   ]
  },
  {
   "cell_type": "markdown",
   "metadata": {},
   "source": [
    "4) Using '-'.join(), display the word hello with a dash between each two letters"
   ]
  },
  {
   "cell_type": "code",
   "execution_count": 6,
   "metadata": {
    "collapsed": false
   },
   "outputs": [
    {
     "name": "stdout",
     "output_type": "stream",
     "text": [
      "he-ll-o\n"
     ]
    }
   ],
   "source": [
    "hello = [\"he\", \"ll\", \"o\"]\n",
    "\n",
    "print(\"-\".join(hello))"
   ]
  },
  {
   "cell_type": "markdown",
   "metadata": {},
   "source": [
    "5) Why can't you do the same thing with '-'.join[1,2,3,4]. What would you do to get it to display \"1-2-3-4\""
   ]
  },
  {
   "cell_type": "code",
   "execution_count": 17,
   "metadata": {
    "collapsed": false
   },
   "outputs": [
    {
     "name": "stdout",
     "output_type": "stream",
     "text": [
      "1-2-3-4\n"
     ]
    }
   ],
   "source": [
    "#You can't join integers, only strings.\n",
    "nums = [1,2,3,4]\n",
    "as_strings = (str(i) for i in nums)\n",
    "print(\"-\".join(as_strings))"
   ]
  },
  {
   "cell_type": "markdown",
   "metadata": {},
   "source": [
    "6) What is the purpose of the map function?"
   ]
  },
  {
   "cell_type": "code",
   "execution_count": 83,
   "metadata": {
    "collapsed": false
   },
   "outputs": [
    {
     "name": "stdout",
     "output_type": "stream",
     "text": [
      "<map object at 0x0000000004667208>\n"
     ]
    }
   ],
   "source": [
    "#the map function applies a function to a list of values\n",
    "\n",
    "def reverse(val):\n",
    "    return (val[::-1])\n",
    "\n",
    "vals = [1,2,3,4,5,6]\n",
    "print(map(reverse,vals))"
   ]
  },
  {
   "cell_type": "markdown",
   "metadata": {},
   "source": [
    "7) Why doesn't the map function produce values?"
   ]
  },
  {
   "cell_type": "code",
   "execution_count": 71,
   "metadata": {
    "collapsed": true
   },
   "outputs": [],
   "source": [
    "#it doesn't produce values because it doesn't waste memory and only produces them when they are demanded"
   ]
  },
  {
   "cell_type": "markdown",
   "metadata": {},
   "source": [
    "8) How do you force a map to produce values?"
   ]
  },
  {
   "cell_type": "code",
   "execution_count": 29,
   "metadata": {
    "collapsed": false
   },
   "outputs": [
    {
     "name": "stdout",
     "output_type": "stream",
     "text": [
      "[2, 4, 6]\n"
     ]
    }
   ],
   "source": [
    "#apply the list function to a map to force it to produce the values\n",
    "def double(par):\n",
    "    return par * 2\n",
    "\n",
    "numbers = [1, 2, 3]\n",
    "print(list(map(multiply, numbers)))"
   ]
  },
  {
   "cell_type": "markdown",
   "metadata": {},
   "source": [
    "9) What is the benefit of opening a file inside the 'with' context/statement?"
   ]
  },
  {
   "cell_type": "code",
   "execution_count": 30,
   "metadata": {
    "collapsed": true
   },
   "outputs": [],
   "source": [
    "#it closes the file automatically when its no longer needed"
   ]
  },
  {
   "cell_type": "markdown",
   "metadata": {},
   "source": [
    "10) What happens when you open a text file in binary mode?"
   ]
  },
  {
   "cell_type": "code",
   "execution_count": 36,
   "metadata": {
    "collapsed": false
   },
   "outputs": [
    {
     "name": "stdout",
     "output_type": "stream",
     "text": [
      "b'this is a test'\n"
     ]
    }
   ],
   "source": [
    "with open(\"test.txt\",\"w\") as file:\n",
    "    file.write(\"this is a test\")\n",
    "with open(\"test.txt\",\"rb\") as file:\n",
    "    print(file.read())"
   ]
  },
  {
   "cell_type": "markdown",
   "metadata": {},
   "source": [
    "11) Run the next two cells and explain the output that is produced"
   ]
  },
  {
   "cell_type": "code",
   "execution_count": 37,
   "metadata": {
    "collapsed": true
   },
   "outputs": [],
   "source": [
    "%%bash\n",
    "cat << \"EOF\" > file.dat\n",
    "1,2,3\n",
    "4,5,6\n",
    "7,8,9\n",
    "EOF"
   ]
  },
  {
   "cell_type": "code",
   "execution_count": 47,
   "metadata": {
    "collapsed": false
   },
   "outputs": [
    {
     "name": "stdout",
     "output_type": "stream",
     "text": [
      "49 44 50 44 51 10 \n",
      "1,2,3\n",
      "52 44 53 44 54 10 \n",
      "4,5,6\n",
      "55 44 56 44 57 10 \n",
      "7,8,9\n"
     ]
    }
   ],
   "source": [
    "with open(\"file.dat\", \"rb\") as f:\n",
    "    for item in f:\n",
    "        for value in item:\n",
    "            print(value, end=' ')\n",
    "        print()\n",
    "        print(item.decode(\"utf-8\"), end='')"
   ]
  },
  {
   "cell_type": "code",
   "execution_count": 39,
   "metadata": {
    "collapsed": true
   },
   "outputs": [],
   "source": [
    "#the output is a printout of the numbers in the file and their corresponding ascii values"
   ]
  },
  {
   "cell_type": "markdown",
   "metadata": {},
   "source": [
    "1) Give an example of converting a character to its ascii value."
   ]
  },
  {
   "cell_type": "code",
   "execution_count": 40,
   "metadata": {
    "collapsed": false
   },
   "outputs": [
    {
     "name": "stdout",
     "output_type": "stream",
     "text": [
      "107\n"
     ]
    }
   ],
   "source": [
    "char = \"k\"\n",
    "\n",
    "print(ord(char))"
   ]
  },
  {
   "cell_type": "markdown",
   "metadata": {},
   "source": [
    "2) Give an example of converting an ascii value to a character"
   ]
  },
  {
   "cell_type": "code",
   "execution_count": 42,
   "metadata": {
    "collapsed": false
   },
   "outputs": [
    {
     "name": "stdout",
     "output_type": "stream",
     "text": [
      "k\n"
     ]
    }
   ],
   "source": [
    "ascii_val = 107\n",
    "\n",
    "print(chr(ascii_val))"
   ]
  },
  {
   "cell_type": "markdown",
   "metadata": {},
   "source": [
    "3) 115 111 102 116 119 97 114 101 ?"
   ]
  },
  {
   "cell_type": "code",
   "execution_count": 52,
   "metadata": {
    "collapsed": false
   },
   "outputs": [
    {
     "name": "stdout",
     "output_type": "stream",
     "text": [
      "['s', 'o', 'f', 't', 'w', 'a', 'r', 'e']\n",
      "software\n"
     ]
    }
   ],
   "source": [
    "values = [115, 111, 102, 116, 119, 97, 114, 101]\n",
    "values_conv = (list(chr(i) for i in values))\n",
    "print(values_conv)\n",
    "print(\"\".join(values_conv))"
   ]
  },
  {
   "cell_type": "markdown",
   "metadata": {},
   "source": [
    "4) Iterate over the following: b\"something\""
   ]
  },
  {
   "cell_type": "code",
   "execution_count": 54,
   "metadata": {
    "collapsed": false
   },
   "outputs": [
    {
     "name": "stdout",
     "output_type": "stream",
     "text": [
      "115 111 109 101 116 104 105 110 103 "
     ]
    }
   ],
   "source": [
    "for i in b\"something\":\n",
    "    print(i, end = \" \")"
   ]
  },
  {
   "cell_type": "markdown",
   "metadata": {},
   "source": [
    "5) Explain the output of the next few cells"
   ]
  },
  {
   "cell_type": "code",
   "execution_count": 68,
   "metadata": {
    "collapsed": true
   },
   "outputs": [],
   "source": [
    "word='''Here is some \n",
    "some\n",
    "stuff\n",
    "in\n",
    "a file\n",
    "'''"
   ]
  },
  {
   "cell_type": "code",
   "execution_count": 56,
   "metadata": {
    "collapsed": false
   },
   "outputs": [
    {
     "name": "stdout",
     "output_type": "stream",
     "text": [
      "Here is some somestuffina file"
     ]
    }
   ],
   "source": [
    "for letter in word:\n",
    "    print(letter.strip('\\n'),end='')"
   ]
  },
  {
   "cell_type": "code",
   "execution_count": 65,
   "metadata": {
    "collapsed": true
   },
   "outputs": [],
   "source": [
    "#the newlines were taken out of the string using the strip string method"
   ]
  },
  {
   "cell_type": "code",
   "execution_count": 69,
   "metadata": {
    "collapsed": false
   },
   "outputs": [
    {
     "name": "stdout",
     "output_type": "stream",
     "text": [
      "Here is some \n",
      "some\n",
      "stuff\n",
      "in\n",
      "a file"
     ]
    }
   ],
   "source": [
    "print(word.strip('\\n'),end='')"
   ]
  },
  {
   "cell_type": "code",
   "execution_count": 58,
   "metadata": {
    "collapsed": false
   },
   "outputs": [
    {
     "name": "stdout",
     "output_type": "stream",
     "text": [
      "Here is some \n",
      "some\n",
      "stuff\n",
      "in\n",
      "a file"
     ]
    }
   ],
   "source": [
    "print(word.strip(),end='')"
   ]
  },
  {
   "cell_type": "code",
   "execution_count": 61,
   "metadata": {
    "collapsed": false
   },
   "outputs": [
    {
     "name": "stdout",
     "output_type": "stream",
     "text": [
      "Here is some \n",
      "some\n",
      "stuff\n",
      "in\n",
      "a file\n"
     ]
    }
   ],
   "source": [
    "print(word.strip())"
   ]
  },
  {
   "cell_type": "code",
   "execution_count": 62,
   "metadata": {
    "collapsed": false
   },
   "outputs": [
    {
     "name": "stdout",
     "output_type": "stream",
     "text": [
      "Hereissomesomestuffinafile"
     ]
    }
   ],
   "source": [
    "for letter in word:\n",
    "    print(letter.strip(),end='')"
   ]
  },
  {
   "cell_type": "code",
   "execution_count": 63,
   "metadata": {
    "collapsed": false
   },
   "outputs": [
    {
     "data": {
      "text/plain": [
       "[119, 104, 97, 116, 39, 115, 32, 116, 104, 105, 115, 63]"
      ]
     },
     "execution_count": 63,
     "metadata": {},
     "output_type": "execute_result"
    }
   ],
   "source": [
    "[ord(i) for i in \"what's this?\"]"
   ]
  },
  {
   "cell_type": "code",
   "execution_count": 70,
   "metadata": {
    "collapsed": true
   },
   "outputs": [],
   "source": [
    "#the ord function is applied to each character in the string \"what's this?\". ord converts characters to their ascii values"
   ]
  },
  {
   "cell_type": "code",
   "execution_count": null,
   "metadata": {
    "collapsed": true
   },
   "outputs": [],
   "source": []
  }
 ],
 "metadata": {
  "kernelspec": {
   "display_name": "Python 3",
   "language": "python",
   "name": "python3"
  },
  "language_info": {
   "codemirror_mode": {
    "name": "ipython",
    "version": 3
   },
   "file_extension": ".py",
   "mimetype": "text/x-python",
   "name": "python",
   "nbconvert_exporter": "python",
   "pygments_lexer": "ipython3",
   "version": "3.5.1"
  }
 },
 "nbformat": 4,
 "nbformat_minor": 0
}
